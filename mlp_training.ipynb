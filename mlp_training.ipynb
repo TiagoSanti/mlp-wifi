{
  "cells": [
    {
      "cell_type": "code",
      "execution_count": 2,
      "metadata": {
        "id": "xms7FRUo9KtP"
      },
      "outputs": [],
      "source": [
        "import pandas as pd\n",
        "from sklearn.neural_network import MLPClassifier\n",
        "from sklearn.metrics import classification_report, confusion_matrix, accuracy_score\n",
        "from sklearn.model_selection import train_test_split\n",
        "import seaborn as sns\n",
        "from joblib import dump, load\n",
        "import os"
      ]
    },
    {
      "cell_type": "code",
      "execution_count": 3,
      "metadata": {
        "id": "5War0R1Y_xNT"
      },
      "outputs": [],
      "source": [
        "SEED = 42"
      ]
    },
    {
      "cell_type": "markdown",
      "metadata": {
        "id": "24J7jSU08RzS"
      },
      "source": [
        "# Data analysis"
      ]
    },
    {
      "cell_type": "code",
      "execution_count": 22,
      "metadata": {
        "id": "HIB5dX5HpOol"
      },
      "outputs": [],
      "source": [
        "input_file = 'house_v4'"
      ]
    },
    {
      "cell_type": "code",
      "execution_count": 23,
      "metadata": {
        "colab": {
          "base_uri": "https://localhost:8080/",
          "height": 522
        },
        "id": "F-Hkysa39cY9",
        "outputId": "e2ae2e79-59bd-4a30-9796-b72d3001ef44"
      },
      "outputs": [
        {
          "data": {
            "text/html": [
              "<div>\n",
              "<style scoped>\n",
              "    .dataframe tbody tr th:only-of-type {\n",
              "        vertical-align: middle;\n",
              "    }\n",
              "\n",
              "    .dataframe tbody tr th {\n",
              "        vertical-align: top;\n",
              "    }\n",
              "\n",
              "    .dataframe thead th {\n",
              "        text-align: right;\n",
              "    }\n",
              "</style>\n",
              "<table border=\"1\" class=\"dataframe\">\n",
              "  <thead>\n",
              "    <tr style=\"text-align: right;\">\n",
              "      <th></th>\n",
              "      <th>class</th>\n",
              "      <th>BJ_5G</th>\n",
              "      <th>Santi-2G</th>\n",
              "      <th>BJ_2G</th>\n",
              "      <th>ARI_2G</th>\n",
              "      <th>VIVOFIBRA-1EB0</th>\n",
              "      <th>Santi-5G</th>\n",
              "      <th>Unnamed: 6</th>\n",
              "      <th>Lais</th>\n",
              "      <th>#NET-CLARO-WIFI</th>\n",
              "      <th>...</th>\n",
              "      <th>CLARO_2G988AD9</th>\n",
              "      <th>Unnamed: 54</th>\n",
              "      <th>NET_2G5E3A5E</th>\n",
              "      <th>Cozinha da In@ 2G</th>\n",
              "      <th>PATRICIA 2G</th>\n",
              "      <th>VIVOFIBRA-1EB0-5G</th>\n",
              "      <th>Willian</th>\n",
              "      <th>LIGUE-IRAN</th>\n",
              "      <th>Unnamed: 61</th>\n",
              "      <th>Unnamed: 62</th>\n",
              "    </tr>\n",
              "  </thead>\n",
              "  <tbody>\n",
              "    <tr>\n",
              "      <th>0</th>\n",
              "      <td>q1</td>\n",
              "      <td>-35.0</td>\n",
              "      <td>-67.0</td>\n",
              "      <td>-22.0</td>\n",
              "      <td>-90.0</td>\n",
              "      <td>-89.0</td>\n",
              "      <td>-78.0</td>\n",
              "      <td>-22.0</td>\n",
              "      <td>-100.0</td>\n",
              "      <td>-100.0</td>\n",
              "      <td>...</td>\n",
              "      <td>-100.0</td>\n",
              "      <td>-100.0</td>\n",
              "      <td>-100.0</td>\n",
              "      <td>-100.0</td>\n",
              "      <td>-100.0</td>\n",
              "      <td>-100.0</td>\n",
              "      <td>-100.0</td>\n",
              "      <td>-100.0</td>\n",
              "      <td>-100.0</td>\n",
              "      <td>-100.0</td>\n",
              "    </tr>\n",
              "    <tr>\n",
              "      <th>1</th>\n",
              "      <td>q1</td>\n",
              "      <td>-39.0</td>\n",
              "      <td>-67.0</td>\n",
              "      <td>-20.0</td>\n",
              "      <td>-100.0</td>\n",
              "      <td>-85.0</td>\n",
              "      <td>-81.0</td>\n",
              "      <td>-72.0</td>\n",
              "      <td>-100.0</td>\n",
              "      <td>-100.0</td>\n",
              "      <td>...</td>\n",
              "      <td>-100.0</td>\n",
              "      <td>-100.0</td>\n",
              "      <td>-100.0</td>\n",
              "      <td>-100.0</td>\n",
              "      <td>-100.0</td>\n",
              "      <td>-100.0</td>\n",
              "      <td>-100.0</td>\n",
              "      <td>-100.0</td>\n",
              "      <td>-100.0</td>\n",
              "      <td>-100.0</td>\n",
              "    </tr>\n",
              "    <tr>\n",
              "      <th>2</th>\n",
              "      <td>q1</td>\n",
              "      <td>-36.0</td>\n",
              "      <td>-63.0</td>\n",
              "      <td>-22.0</td>\n",
              "      <td>-100.0</td>\n",
              "      <td>-85.0</td>\n",
              "      <td>-75.0</td>\n",
              "      <td>-66.0</td>\n",
              "      <td>-100.0</td>\n",
              "      <td>-100.0</td>\n",
              "      <td>...</td>\n",
              "      <td>-100.0</td>\n",
              "      <td>-100.0</td>\n",
              "      <td>-100.0</td>\n",
              "      <td>-100.0</td>\n",
              "      <td>-100.0</td>\n",
              "      <td>-100.0</td>\n",
              "      <td>-100.0</td>\n",
              "      <td>-100.0</td>\n",
              "      <td>-100.0</td>\n",
              "      <td>-100.0</td>\n",
              "    </tr>\n",
              "    <tr>\n",
              "      <th>3</th>\n",
              "      <td>q1</td>\n",
              "      <td>-43.0</td>\n",
              "      <td>-73.0</td>\n",
              "      <td>-37.0</td>\n",
              "      <td>-89.0</td>\n",
              "      <td>-85.0</td>\n",
              "      <td>-76.0</td>\n",
              "      <td>-69.0</td>\n",
              "      <td>-95.0</td>\n",
              "      <td>-90.0</td>\n",
              "      <td>...</td>\n",
              "      <td>-100.0</td>\n",
              "      <td>-100.0</td>\n",
              "      <td>-100.0</td>\n",
              "      <td>-100.0</td>\n",
              "      <td>-100.0</td>\n",
              "      <td>-100.0</td>\n",
              "      <td>-100.0</td>\n",
              "      <td>-100.0</td>\n",
              "      <td>-100.0</td>\n",
              "      <td>-100.0</td>\n",
              "    </tr>\n",
              "    <tr>\n",
              "      <th>4</th>\n",
              "      <td>q1</td>\n",
              "      <td>-47.0</td>\n",
              "      <td>-76.0</td>\n",
              "      <td>-43.0</td>\n",
              "      <td>-93.0</td>\n",
              "      <td>-89.0</td>\n",
              "      <td>-74.0</td>\n",
              "      <td>-64.0</td>\n",
              "      <td>-90.0</td>\n",
              "      <td>-94.0</td>\n",
              "      <td>...</td>\n",
              "      <td>-100.0</td>\n",
              "      <td>-100.0</td>\n",
              "      <td>-100.0</td>\n",
              "      <td>-100.0</td>\n",
              "      <td>-100.0</td>\n",
              "      <td>-100.0</td>\n",
              "      <td>-100.0</td>\n",
              "      <td>-100.0</td>\n",
              "      <td>-100.0</td>\n",
              "      <td>-100.0</td>\n",
              "    </tr>\n",
              "    <tr>\n",
              "      <th>...</th>\n",
              "      <td>...</td>\n",
              "      <td>...</td>\n",
              "      <td>...</td>\n",
              "      <td>...</td>\n",
              "      <td>...</td>\n",
              "      <td>...</td>\n",
              "      <td>...</td>\n",
              "      <td>...</td>\n",
              "      <td>...</td>\n",
              "      <td>...</td>\n",
              "      <td>...</td>\n",
              "      <td>...</td>\n",
              "      <td>...</td>\n",
              "      <td>...</td>\n",
              "      <td>...</td>\n",
              "      <td>...</td>\n",
              "      <td>...</td>\n",
              "      <td>...</td>\n",
              "      <td>...</td>\n",
              "      <td>...</td>\n",
              "      <td>...</td>\n",
              "    </tr>\n",
              "    <tr>\n",
              "      <th>1205</th>\n",
              "      <td>s1</td>\n",
              "      <td>-64.0</td>\n",
              "      <td>-49.0</td>\n",
              "      <td>-49.0</td>\n",
              "      <td>-88.0</td>\n",
              "      <td>-84.0</td>\n",
              "      <td>-65.0</td>\n",
              "      <td>-100.0</td>\n",
              "      <td>-89.0</td>\n",
              "      <td>-90.0</td>\n",
              "      <td>...</td>\n",
              "      <td>-100.0</td>\n",
              "      <td>-100.0</td>\n",
              "      <td>-100.0</td>\n",
              "      <td>-100.0</td>\n",
              "      <td>-100.0</td>\n",
              "      <td>-100.0</td>\n",
              "      <td>-100.0</td>\n",
              "      <td>-100.0</td>\n",
              "      <td>-100.0</td>\n",
              "      <td>-66.0</td>\n",
              "    </tr>\n",
              "    <tr>\n",
              "      <th>1206</th>\n",
              "      <td>s1</td>\n",
              "      <td>-64.0</td>\n",
              "      <td>-49.0</td>\n",
              "      <td>-49.0</td>\n",
              "      <td>-89.0</td>\n",
              "      <td>-84.0</td>\n",
              "      <td>-65.0</td>\n",
              "      <td>-100.0</td>\n",
              "      <td>-93.0</td>\n",
              "      <td>-90.0</td>\n",
              "      <td>...</td>\n",
              "      <td>-100.0</td>\n",
              "      <td>-100.0</td>\n",
              "      <td>-100.0</td>\n",
              "      <td>-100.0</td>\n",
              "      <td>-100.0</td>\n",
              "      <td>-100.0</td>\n",
              "      <td>-100.0</td>\n",
              "      <td>-100.0</td>\n",
              "      <td>-100.0</td>\n",
              "      <td>-66.0</td>\n",
              "    </tr>\n",
              "    <tr>\n",
              "      <th>1207</th>\n",
              "      <td>s1</td>\n",
              "      <td>-64.0</td>\n",
              "      <td>-49.0</td>\n",
              "      <td>-49.0</td>\n",
              "      <td>-89.0</td>\n",
              "      <td>-84.0</td>\n",
              "      <td>-65.0</td>\n",
              "      <td>-100.0</td>\n",
              "      <td>-93.0</td>\n",
              "      <td>-90.0</td>\n",
              "      <td>...</td>\n",
              "      <td>-100.0</td>\n",
              "      <td>-100.0</td>\n",
              "      <td>-100.0</td>\n",
              "      <td>-100.0</td>\n",
              "      <td>-100.0</td>\n",
              "      <td>-100.0</td>\n",
              "      <td>-100.0</td>\n",
              "      <td>-100.0</td>\n",
              "      <td>-100.0</td>\n",
              "      <td>-66.0</td>\n",
              "    </tr>\n",
              "    <tr>\n",
              "      <th>1208</th>\n",
              "      <td>s1</td>\n",
              "      <td>-64.0</td>\n",
              "      <td>-49.0</td>\n",
              "      <td>-49.0</td>\n",
              "      <td>-89.0</td>\n",
              "      <td>-84.0</td>\n",
              "      <td>-65.0</td>\n",
              "      <td>-100.0</td>\n",
              "      <td>-93.0</td>\n",
              "      <td>-90.0</td>\n",
              "      <td>...</td>\n",
              "      <td>-100.0</td>\n",
              "      <td>-100.0</td>\n",
              "      <td>-100.0</td>\n",
              "      <td>-100.0</td>\n",
              "      <td>-100.0</td>\n",
              "      <td>-100.0</td>\n",
              "      <td>-100.0</td>\n",
              "      <td>-100.0</td>\n",
              "      <td>-100.0</td>\n",
              "      <td>-66.0</td>\n",
              "    </tr>\n",
              "    <tr>\n",
              "      <th>1209</th>\n",
              "      <td>s1</td>\n",
              "      <td>-64.0</td>\n",
              "      <td>-49.0</td>\n",
              "      <td>-49.0</td>\n",
              "      <td>-89.0</td>\n",
              "      <td>-84.0</td>\n",
              "      <td>-65.0</td>\n",
              "      <td>-100.0</td>\n",
              "      <td>-93.0</td>\n",
              "      <td>-90.0</td>\n",
              "      <td>...</td>\n",
              "      <td>-100.0</td>\n",
              "      <td>-100.0</td>\n",
              "      <td>-100.0</td>\n",
              "      <td>-100.0</td>\n",
              "      <td>-100.0</td>\n",
              "      <td>-100.0</td>\n",
              "      <td>-100.0</td>\n",
              "      <td>-100.0</td>\n",
              "      <td>-100.0</td>\n",
              "      <td>-66.0</td>\n",
              "    </tr>\n",
              "  </tbody>\n",
              "</table>\n",
              "<p>1210 rows × 63 columns</p>\n",
              "</div>"
            ],
            "text/plain": [
              "     class  BJ_5G  Santi-2G  BJ_2G  ARI_2G  VIVOFIBRA-1EB0  Santi-5G  \\\n",
              "0       q1  -35.0     -67.0  -22.0   -90.0           -89.0     -78.0   \n",
              "1       q1  -39.0     -67.0  -20.0  -100.0           -85.0     -81.0   \n",
              "2       q1  -36.0     -63.0  -22.0  -100.0           -85.0     -75.0   \n",
              "3       q1  -43.0     -73.0  -37.0   -89.0           -85.0     -76.0   \n",
              "4       q1  -47.0     -76.0  -43.0   -93.0           -89.0     -74.0   \n",
              "...    ...    ...       ...    ...     ...             ...       ...   \n",
              "1205    s1  -64.0     -49.0  -49.0   -88.0           -84.0     -65.0   \n",
              "1206    s1  -64.0     -49.0  -49.0   -89.0           -84.0     -65.0   \n",
              "1207    s1  -64.0     -49.0  -49.0   -89.0           -84.0     -65.0   \n",
              "1208    s1  -64.0     -49.0  -49.0   -89.0           -84.0     -65.0   \n",
              "1209    s1  -64.0     -49.0  -49.0   -89.0           -84.0     -65.0   \n",
              "\n",
              "      Unnamed: 6   Lais  #NET-CLARO-WIFI  ...  CLARO_2G988AD9  Unnamed: 54  \\\n",
              "0          -22.0 -100.0           -100.0  ...          -100.0       -100.0   \n",
              "1          -72.0 -100.0           -100.0  ...          -100.0       -100.0   \n",
              "2          -66.0 -100.0           -100.0  ...          -100.0       -100.0   \n",
              "3          -69.0  -95.0            -90.0  ...          -100.0       -100.0   \n",
              "4          -64.0  -90.0            -94.0  ...          -100.0       -100.0   \n",
              "...          ...    ...              ...  ...             ...          ...   \n",
              "1205      -100.0  -89.0            -90.0  ...          -100.0       -100.0   \n",
              "1206      -100.0  -93.0            -90.0  ...          -100.0       -100.0   \n",
              "1207      -100.0  -93.0            -90.0  ...          -100.0       -100.0   \n",
              "1208      -100.0  -93.0            -90.0  ...          -100.0       -100.0   \n",
              "1209      -100.0  -93.0            -90.0  ...          -100.0       -100.0   \n",
              "\n",
              "      NET_2G5E3A5E  Cozinha da In@ 2G  PATRICIA 2G  VIVOFIBRA-1EB0-5G  \\\n",
              "0           -100.0             -100.0       -100.0             -100.0   \n",
              "1           -100.0             -100.0       -100.0             -100.0   \n",
              "2           -100.0             -100.0       -100.0             -100.0   \n",
              "3           -100.0             -100.0       -100.0             -100.0   \n",
              "4           -100.0             -100.0       -100.0             -100.0   \n",
              "...            ...                ...          ...                ...   \n",
              "1205        -100.0             -100.0       -100.0             -100.0   \n",
              "1206        -100.0             -100.0       -100.0             -100.0   \n",
              "1207        -100.0             -100.0       -100.0             -100.0   \n",
              "1208        -100.0             -100.0       -100.0             -100.0   \n",
              "1209        -100.0             -100.0       -100.0             -100.0   \n",
              "\n",
              "      Willian  LIGUE-IRAN  Unnamed: 61  Unnamed: 62  \n",
              "0      -100.0      -100.0       -100.0       -100.0  \n",
              "1      -100.0      -100.0       -100.0       -100.0  \n",
              "2      -100.0      -100.0       -100.0       -100.0  \n",
              "3      -100.0      -100.0       -100.0       -100.0  \n",
              "4      -100.0      -100.0       -100.0       -100.0  \n",
              "...       ...         ...          ...          ...  \n",
              "1205   -100.0      -100.0       -100.0        -66.0  \n",
              "1206   -100.0      -100.0       -100.0        -66.0  \n",
              "1207   -100.0      -100.0       -100.0        -66.0  \n",
              "1208   -100.0      -100.0       -100.0        -66.0  \n",
              "1209   -100.0      -100.0       -100.0        -66.0  \n",
              "\n",
              "[1210 rows x 63 columns]"
            ]
          },
          "execution_count": 23,
          "metadata": {},
          "output_type": "execute_result"
        }
      ],
      "source": [
        "df = pd.read_csv(f'data/{input_file}.csv')\n",
        "df"
      ]
    },
    {
      "cell_type": "markdown",
      "metadata": {},
      "source": [
        "# Data prepraration"
      ]
    },
    {
      "cell_type": "code",
      "execution_count": 24,
      "metadata": {
        "id": "b7YnaRpM6Avs"
      },
      "outputs": [],
      "source": [
        "def remove_columns():\n",
        "    for column in df.columns:\n",
        "        if 'Unnamed:' in column or'#NET-CLARO-WIFI' in column:\n",
        "            df.drop(columns=[column], inplace=True)\n",
        "    return df"
      ]
    },
    {
      "cell_type": "code",
      "execution_count": 25,
      "metadata": {
        "colab": {
          "base_uri": "https://localhost:8080/"
        },
        "id": "2hRIX5wH5vpi",
        "outputId": "ef587e9b-ad73-4eca-88f9-cb49117b3544"
      },
      "outputs": [
        {
          "data": {
            "text/plain": [
              "(Index(['class', 'BJ_5G', 'Santi-2G', 'BJ_2G', 'ARI_2G', 'VIVOFIBRA-1EB0',\n",
              "        'Santi-5G', 'Lais', 'CLARO_2G46D856', 'ANA 2.4G', 'Rubens_2.4', 'INA ',\n",
              "        'plenna_inteligenti', 'Familia', 'VIVOFIBRA-FF20', 'InÃ¡ Corp',\n",
              "        'Cozinha da InÃ¡', '((TURIS))', 'Maria_2G', 'BUCKER', 'AMNET85_8295',\n",
              "        'CLARO_2G92213C', 'VIVOFIBRA-F7E8', '((Internacional))', '2G Lucineia',\n",
              "        'ALEXANDRE1', 'andre', 'CLARO_2G743AC1', 'INA _EXT', 'CasadoTapeceiro',\n",
              "        'Living Room TV.v,', 'Gourmet TV.b,', 'Sabadotto', 'Apt_304_2.0_EXT',\n",
              "        'APT1104', 'ROMEU_2g', 'Ari', 'DIRECT-99-HP DeskJet 2700 series',\n",
              "        'VIVOFIBRA-4CD1', 'VIVO 1401', 'CLARO_2G69D958', 'CAMARGO 08',\n",
              "        'Apt_304_2.0', 'VIVOFIBRA-1404', 'NET_2G294992', 'CLARO_2G988AD9',\n",
              "        'NET_2G5E3A5E', 'Cozinha da In@ 2G', 'PATRICIA 2G', 'VIVOFIBRA-1EB0-5G',\n",
              "        'Willian', 'LIGUE-IRAN'],\n",
              "       dtype='object'),\n",
              " 52)"
            ]
          },
          "execution_count": 25,
          "metadata": {},
          "output_type": "execute_result"
        }
      ],
      "source": [
        "df = remove_columns()\n",
        "df.columns, len(df.columns)"
      ]
    },
    {
      "cell_type": "code",
      "execution_count": 26,
      "metadata": {
        "colab": {
          "base_uri": "https://localhost:8080/"
        },
        "id": "iBbwHzRI9jal",
        "outputId": "e47ecb6a-da87-4b9f-8007-02f78d24e615"
      },
      "outputs": [
        {
          "data": {
            "text/plain": [
              "s1    415\n",
              "p     245\n",
              "g     240\n",
              "q1    166\n",
              "c     144\n",
              "Name: class, dtype: int64"
            ]
          },
          "execution_count": 26,
          "metadata": {},
          "output_type": "execute_result"
        }
      ],
      "source": [
        "df['class'].value_counts()"
      ]
    },
    {
      "cell_type": "code",
      "execution_count": 27,
      "metadata": {
        "id": "loQZUgNy_fPE"
      },
      "outputs": [],
      "source": [
        "X = df.drop(columns=['class'])\n",
        "y = df['class']"
      ]
    },
    {
      "cell_type": "code",
      "execution_count": 28,
      "metadata": {
        "id": "Q_o43r7X_KPZ"
      },
      "outputs": [],
      "source": [
        "X_train, X_test, y_train, y_test = train_test_split(X, y, test_size=0.2, stratify=y, shuffle=True, random_state=SEED)"
      ]
    },
    {
      "cell_type": "code",
      "execution_count": 29,
      "metadata": {
        "colab": {
          "base_uri": "https://localhost:8080/"
        },
        "id": "bTqIJNgE_2Ib",
        "outputId": "e7833578-4d17-4dc8-c4e1-ddd5e09f721e"
      },
      "outputs": [
        {
          "data": {
            "text/plain": [
              "s1    332\n",
              "p     196\n",
              "g     192\n",
              "q1    133\n",
              "c     115\n",
              "Name: class, dtype: int64"
            ]
          },
          "execution_count": 29,
          "metadata": {},
          "output_type": "execute_result"
        }
      ],
      "source": [
        "y_train.value_counts()"
      ]
    },
    {
      "cell_type": "code",
      "execution_count": 30,
      "metadata": {
        "colab": {
          "base_uri": "https://localhost:8080/"
        },
        "id": "2BzoHSWR_-o6",
        "outputId": "f4043008-1d87-4714-f8e5-5eb3c4825a92"
      },
      "outputs": [
        {
          "data": {
            "text/plain": [
              "s1    83\n",
              "p     49\n",
              "g     48\n",
              "q1    33\n",
              "c     29\n",
              "Name: class, dtype: int64"
            ]
          },
          "execution_count": 30,
          "metadata": {},
          "output_type": "execute_result"
        }
      ],
      "source": [
        "y_test.value_counts()"
      ]
    },
    {
      "cell_type": "markdown",
      "metadata": {
        "id": "1tDzYElY8PWD"
      },
      "source": [
        "# Model fit"
      ]
    },
    {
      "cell_type": "code",
      "execution_count": 48,
      "metadata": {
        "id": "4Vgw_29j9rab"
      },
      "outputs": [],
      "source": [
        "model = MLPClassifier(hidden_layer_sizes=(1000, 1000, 1000, 1000, 1000),\n",
        "                      alpha=0.0001,\n",
        "                      solver='adam',\n",
        "                      random_state=SEED,\n",
        "                      verbose=True,\n",
        "                      n_iter_no_change=25,\n",
        "                      max_iter=1000,)"
      ]
    },
    {
      "cell_type": "code",
      "execution_count": 49,
      "metadata": {
        "colab": {
          "base_uri": "https://localhost:8080/",
          "height": 1000
        },
        "id": "2WFAhViTAL7k",
        "outputId": "411685ed-dee4-428e-8a53-80ed0d9020e9"
      },
      "outputs": [
        {
          "name": "stdout",
          "output_type": "stream",
          "text": [
            "Iteration 1, loss = 20.23674421\n",
            "Iteration 2, loss = 11.50119022\n",
            "Iteration 3, loss = 5.58938183\n",
            "Iteration 4, loss = 1.91615143\n",
            "Iteration 5, loss = 1.50462147\n",
            "Iteration 6, loss = 1.38799485\n",
            "Iteration 7, loss = 1.26156776\n",
            "Iteration 8, loss = 1.09370719\n",
            "Iteration 9, loss = 0.97085367\n",
            "Iteration 10, loss = 0.78295573\n",
            "Iteration 11, loss = 0.77833472\n",
            "Iteration 12, loss = 0.58315602\n",
            "Iteration 13, loss = 1.15888876\n",
            "Iteration 14, loss = 0.88079480\n",
            "Iteration 15, loss = 0.74606742\n",
            "Iteration 16, loss = 0.64484570\n",
            "Iteration 17, loss = 0.58061039\n",
            "Iteration 18, loss = 0.54480308\n",
            "Iteration 19, loss = 0.53783463\n",
            "Iteration 20, loss = 0.44462266\n",
            "Iteration 21, loss = 0.41539204\n",
            "Iteration 22, loss = 0.41200324\n",
            "Iteration 23, loss = 0.70080757\n",
            "Iteration 24, loss = 0.49914819\n",
            "Iteration 25, loss = 0.39161072\n",
            "Iteration 26, loss = 0.45355382\n",
            "Iteration 27, loss = 0.49775148\n",
            "Iteration 28, loss = 0.31870232\n",
            "Iteration 29, loss = 0.27638840\n",
            "Iteration 30, loss = 0.24381994\n",
            "Iteration 31, loss = 0.65495228\n",
            "Iteration 32, loss = 0.65983784\n",
            "Iteration 33, loss = 0.41582639\n",
            "Iteration 34, loss = 0.36095673\n",
            "Iteration 35, loss = 0.28168021\n",
            "Iteration 36, loss = 0.44770978\n",
            "Iteration 37, loss = 0.58624961\n",
            "Iteration 38, loss = 0.40447113\n",
            "Iteration 39, loss = 0.35549276\n",
            "Iteration 40, loss = 0.26887828\n",
            "Iteration 41, loss = 0.22261288\n",
            "Iteration 42, loss = 0.19693552\n",
            "Iteration 43, loss = 0.15660315\n",
            "Iteration 44, loss = 0.16654801\n",
            "Iteration 45, loss = 0.17467827\n",
            "Iteration 46, loss = 0.36000736\n",
            "Iteration 47, loss = 0.22460509\n",
            "Iteration 48, loss = 0.26003010\n",
            "Iteration 49, loss = 0.32341124\n",
            "Iteration 50, loss = 0.20235018\n",
            "Iteration 51, loss = 0.14579333\n",
            "Iteration 52, loss = 0.14601293\n",
            "Iteration 53, loss = 0.13450172\n",
            "Iteration 54, loss = 0.18578334\n",
            "Iteration 55, loss = 0.22243451\n",
            "Iteration 56, loss = 0.31286126\n",
            "Iteration 57, loss = 0.68108281\n",
            "Iteration 58, loss = 1.01356548\n",
            "Iteration 59, loss = 0.55991232\n",
            "Iteration 60, loss = 0.45565380\n",
            "Iteration 61, loss = 0.36752078\n",
            "Iteration 62, loss = 0.30497460\n",
            "Iteration 63, loss = 0.21006596\n",
            "Iteration 64, loss = 0.16098321\n",
            "Iteration 65, loss = 0.27949059\n",
            "Iteration 66, loss = 0.41962440\n",
            "Iteration 67, loss = 0.40063354\n",
            "Iteration 68, loss = 0.34109480\n",
            "Iteration 69, loss = 0.26932742\n",
            "Iteration 70, loss = 0.24607189\n",
            "Iteration 71, loss = 0.14237448\n",
            "Iteration 72, loss = 0.12151351\n",
            "Iteration 73, loss = 0.21716271\n",
            "Iteration 74, loss = 0.25472121\n",
            "Iteration 75, loss = 0.17044756\n",
            "Iteration 76, loss = 0.10708863\n",
            "Iteration 77, loss = 0.10553128\n",
            "Iteration 78, loss = 0.10283626\n",
            "Iteration 79, loss = 0.09073005\n",
            "Iteration 80, loss = 0.09971250\n",
            "Iteration 81, loss = 0.07739426\n",
            "Iteration 82, loss = 0.07006446\n",
            "Iteration 83, loss = 0.07853293\n",
            "Iteration 84, loss = 0.08470118\n",
            "Iteration 85, loss = 0.07451397\n",
            "Iteration 86, loss = 0.06785204\n",
            "Iteration 87, loss = 0.06771434\n",
            "Iteration 88, loss = 0.07980044\n",
            "Iteration 89, loss = 0.05864297\n",
            "Iteration 90, loss = 0.11898836\n",
            "Iteration 91, loss = 0.09481555\n",
            "Iteration 92, loss = 0.06073819\n",
            "Iteration 93, loss = 0.11948904\n",
            "Iteration 94, loss = 0.34343165\n",
            "Iteration 95, loss = 0.26389630\n",
            "Iteration 96, loss = 0.13911361\n",
            "Iteration 97, loss = 0.11140188\n",
            "Iteration 98, loss = 0.31278623\n",
            "Iteration 99, loss = 0.59326374\n",
            "Iteration 100, loss = 0.39739656\n",
            "Iteration 101, loss = 0.41456644\n",
            "Iteration 102, loss = 0.33035733\n",
            "Iteration 103, loss = 0.18307161\n",
            "Iteration 104, loss = 0.15573724\n",
            "Iteration 105, loss = 0.11997176\n",
            "Iteration 106, loss = 0.13154163\n",
            "Iteration 107, loss = 0.09843025\n",
            "Iteration 108, loss = 0.06832259\n",
            "Iteration 109, loss = 0.06367792\n",
            "Iteration 110, loss = 0.05090196\n",
            "Iteration 111, loss = 0.08281167\n",
            "Iteration 112, loss = 0.09225168\n",
            "Iteration 113, loss = 0.07046527\n",
            "Iteration 114, loss = 0.09144395\n",
            "Iteration 115, loss = 0.05852744\n",
            "Iteration 116, loss = 0.04459731\n",
            "Iteration 117, loss = 0.05995928\n",
            "Iteration 118, loss = 0.07671178\n",
            "Iteration 119, loss = 0.06324897\n",
            "Iteration 120, loss = 0.10538628\n",
            "Iteration 121, loss = 0.28502916\n",
            "Iteration 122, loss = 0.44183797\n",
            "Iteration 123, loss = 0.17482525\n",
            "Iteration 124, loss = 0.11110320\n",
            "Iteration 125, loss = 0.09154881\n",
            "Iteration 126, loss = 0.08380666\n",
            "Iteration 127, loss = 0.10104519\n",
            "Iteration 128, loss = 1.31240810\n",
            "Iteration 129, loss = 0.61716880\n",
            "Iteration 130, loss = 0.53970038\n",
            "Iteration 131, loss = 0.27471069\n",
            "Iteration 132, loss = 0.14313076\n",
            "Iteration 133, loss = 0.18308529\n",
            "Iteration 134, loss = 0.17062582\n",
            "Iteration 135, loss = 0.15505994\n",
            "Iteration 136, loss = 0.11478258\n",
            "Iteration 137, loss = 0.08709669\n",
            "Iteration 138, loss = 0.07765265\n",
            "Iteration 139, loss = 0.07258951\n",
            "Iteration 140, loss = 0.10535165\n",
            "Iteration 141, loss = 0.10021421\n",
            "Iteration 142, loss = 0.08593364\n",
            "Training loss did not improve more than tol=0.000100 for 25 consecutive epochs. Stopping.\n"
          ]
        },
        {
          "data": {
            "text/plain": [
              "MLPClassifier(hidden_layer_sizes=(1000, 1000, 1000, 1000, 1000), max_iter=1000,\n",
              "              n_iter_no_change=25, random_state=42, verbose=True)"
            ]
          },
          "execution_count": 49,
          "metadata": {},
          "output_type": "execute_result"
        }
      ],
      "source": [
        "model.fit(X_train, y_train)"
      ]
    },
    {
      "cell_type": "markdown",
      "metadata": {
        "id": "9VbbpNv88FUo"
      },
      "source": [
        "# Test"
      ]
    },
    {
      "cell_type": "code",
      "execution_count": 50,
      "metadata": {
        "id": "XYQlqC0HAjHp"
      },
      "outputs": [],
      "source": [
        "y_pred = model.predict(X_test)"
      ]
    },
    {
      "cell_type": "code",
      "execution_count": 51,
      "metadata": {
        "id": "_g58VGbIASLv"
      },
      "outputs": [],
      "source": [
        "report = classification_report(y_true=y_test, y_pred=y_pred)"
      ]
    },
    {
      "cell_type": "code",
      "execution_count": 52,
      "metadata": {
        "colab": {
          "base_uri": "https://localhost:8080/"
        },
        "id": "UtB_WIRXAuIf",
        "outputId": "5f25a9b4-ef58-417d-b573-53ec820ed699"
      },
      "outputs": [
        {
          "name": "stdout",
          "output_type": "stream",
          "text": [
            "              precision    recall  f1-score   support\n",
            "\n",
            "           c       0.80      0.97      0.88        29\n",
            "           g       0.83      1.00      0.91        48\n",
            "           p       1.00      0.82      0.90        49\n",
            "          q1       1.00      1.00      1.00        33\n",
            "          s1       1.00      0.92      0.96        83\n",
            "\n",
            "    accuracy                           0.93       242\n",
            "   macro avg       0.93      0.94      0.93       242\n",
            "weighted avg       0.94      0.93      0.93       242\n",
            "\n"
          ]
        }
      ],
      "source": [
        "print(report)"
      ]
    },
    {
      "cell_type": "code",
      "execution_count": 53,
      "metadata": {
        "colab": {
          "base_uri": "https://localhost:8080/",
          "height": 447
        },
        "id": "UJVBHIq2AwC-",
        "outputId": "f0f95b2e-f882-438f-fc07-49f3c7a911b9"
      },
      "outputs": [
        {
          "data": {
            "text/plain": [
              "<AxesSubplot:>"
            ]
          },
          "execution_count": 53,
          "metadata": {},
          "output_type": "execute_result"
        },
        {
          "data": {
            "image/png": "[encoded data removed]",
            "text/plain": [
              "<Figure size 640x480 with 2 Axes>"
            ]
          },
          "metadata": {},
          "output_type": "display_data"
        }
      ],
      "source": [
        "conf_matrix = confusion_matrix(y_true=y_test, y_pred=y_pred)\n",
        "sns.heatmap(conf_matrix,\n",
        "            annot=True,\n",
        "            xticklabels=model.classes_,\n",
        "            yticklabels=model.classes_)"
      ]
    },
    {
      "cell_type": "code",
      "execution_count": 54,
      "metadata": {
        "colab": {
          "base_uri": "https://localhost:8080/",
          "height": 35
        },
        "id": "pUMdD6HLpeyu",
        "outputId": "b98c6eec-9247-40b2-e9f5-34d4ced12bf6"
      },
      "outputs": [
        {
          "data": {
            "text/plain": [
              "'model_v4'"
            ]
          },
          "execution_count": 54,
          "metadata": {},
          "output_type": "execute_result"
        }
      ],
      "source": [
        "model_name = 'model_' + input_file.split('_')[-1]\n",
        "model_name"
      ]
    },
    {
      "cell_type": "code",
      "execution_count": 55,
      "metadata": {
        "colab": {
          "base_uri": "https://localhost:8080/"
        },
        "id": "cJZUfh18Bisq",
        "outputId": "13516374-4ed2-42e7-d113-c66e73e44d7c"
      },
      "outputs": [
        {
          "data": {
            "text/plain": [
              "['models/model_v4.joblib']"
            ]
          },
          "execution_count": 55,
          "metadata": {},
          "output_type": "execute_result"
        }
      ],
      "source": [
        "dump(model, f'models/{model_name}.joblib')"
      ]
    },
    {
      "cell_type": "code",
      "execution_count": 56,
      "metadata": {
        "id": "WmtZhcF6CVGB"
      },
      "outputs": [],
      "source": [
        "model = load(f'models/{model_name}.joblib')"
      ]
    },
    {
      "cell_type": "code",
      "execution_count": 57,
      "metadata": {
        "colab": {
          "base_uri": "https://localhost:8080/"
        },
        "id": "yEaRTDCB7EIM",
        "outputId": "c44cd480-41dd-40ae-b950-e562c2a8466b"
      },
      "outputs": [
        {
          "data": {
            "text/plain": [
              "array(['BJ_5G', 'Santi-2G', 'BJ_2G', 'ARI_2G', 'VIVOFIBRA-1EB0',\n",
              "       'Santi-5G', 'Lais', 'CLARO_2G46D856', 'ANA 2.4G', 'Rubens_2.4',\n",
              "       'INA ', 'plenna_inteligenti', 'Familia', 'VIVOFIBRA-FF20',\n",
              "       'InÃ¡ Corp', 'Cozinha da InÃ¡', '((TURIS))', 'Maria_2G', 'BUCKER',\n",
              "       'AMNET85_8295', 'CLARO_2G92213C', 'VIVOFIBRA-F7E8',\n",
              "       '((Internacional))', '2G Lucineia', 'ALEXANDRE1', 'andre',\n",
              "       'CLARO_2G743AC1', 'INA _EXT', 'CasadoTapeceiro',\n",
              "       'Living Room TV.v,', 'Gourmet TV.b,', 'Sabadotto',\n",
              "       'Apt_304_2.0_EXT', 'APT1104', 'ROMEU_2g', 'Ari',\n",
              "       'DIRECT-99-HP DeskJet 2700 series', 'VIVOFIBRA-4CD1', 'VIVO 1401',\n",
              "       'CLARO_2G69D958', 'CAMARGO 08', 'Apt_304_2.0', 'VIVOFIBRA-1404',\n",
              "       'NET_2G294992', 'CLARO_2G988AD9', 'NET_2G5E3A5E',\n",
              "       'Cozinha da In@ 2G', 'PATRICIA 2G', 'VIVOFIBRA-1EB0-5G', 'Willian',\n",
              "       'LIGUE-IRAN'], dtype=object)"
            ]
          },
          "execution_count": 57,
          "metadata": {},
          "output_type": "execute_result"
        }
      ],
      "source": [
        "model.feature_names_in_"
      ]
    },
    {
      "cell_type": "code",
      "execution_count": 58,
      "metadata": {
        "colab": {
          "base_uri": "https://localhost:8080/"
        },
        "id": "nPOR8i3a7OAk",
        "outputId": "e13c26be-4dab-49f8-f637-f4132b2b5756"
      },
      "outputs": [
        {
          "data": {
            "text/plain": [
              "array(['c', 'g', 'p', 'q1', 's1'], dtype='<U2')"
            ]
          },
          "execution_count": 58,
          "metadata": {},
          "output_type": "execute_result"
        }
      ],
      "source": [
        "model.classes_"
      ]
    },
    {
      "cell_type": "code",
      "execution_count": null,
      "metadata": {
        "id": "BARqnsvC7QDl"
      },
      "outputs": [],
      "source": []
    },
    {
      "cell_type": "code",
      "execution_count": null,
      "metadata": {},
      "outputs": [],
      "source": []
    }
  ],
  "metadata": {
    "colab": {
      "provenance": []
    },
    "kernelspec": {
      "display_name": "Python 3",
      "name": "python3"
    },
    "language_info": {
      "codemirror_mode": {
        "name": "ipython",
        "version": 3
      },
      "file_extension": ".py",
      "mimetype": "text/x-python",
      "name": "python",
      "nbconvert_exporter": "python",
      "pygments_lexer": "ipython3",
      "version": "3.9.13"
    }
  },
  "nbformat": 4,
  "nbformat_minor": 0
}
